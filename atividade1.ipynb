{
 "cells": [
  {
   "cell_type": "code",
   "execution_count": 34,
   "metadata": {},
   "outputs": [
    {
     "name": "stdout",
     "output_type": "stream",
     "text": [
      "Requirement already satisfied: Pillow in /home/codespace/.local/lib/python3.12/site-packages (11.0.0)\n",
      "Note: you may need to restart the kernel to use updated packages.\n"
     ]
    }
   ],
   "source": [
    "pip install Pillow"
   ]
  },
  {
   "cell_type": "code",
   "execution_count": 1,
   "metadata": {},
   "outputs": [],
   "source": [
    "from PIL import Image, ImageEnhance, ImageFilter\n",
    "# carregando imagem no codigo\n",
    "\n"
   ]
  },
  {
   "cell_type": "code",
   "execution_count": 3,
   "metadata": {},
   "outputs": [],
   "source": [
    "imagem = Image.open('bandeira.jpg')\n"
   ]
  },
  {
   "cell_type": "code",
   "execution_count": 2,
   "metadata": {},
   "outputs": [
    {
     "name": "stdout",
     "output_type": "stream",
     "text": [
      "Formato: JPEG\n",
      "Tamanho: (553, 983)\n",
      "Modo: RGB\n"
     ]
    }
   ],
   "source": [
    "print(f\"Formato: {imagem.format}\")\n",
    "print(f\"Tamanho: {imagem.size}\")\n",
    "print(f\"Modo: {imagem.mode}\")"
   ]
  },
  {
   "cell_type": "code",
   "execution_count": 4,
   "metadata": {},
   "outputs": [],
   "source": [
    "def redimensionar_imagem(imagem, fator=0.5):\n",
    "    novo_tamanho = (int(imagem.size[0] * fator), int(imagem.size[1] * fator))\n",
    "    imagem_redimensionada = imagem.resize(novo_tamanho)\n",
    "    return imagem_redimensionada\n",
    "\n",
    "# Teste sua função\n",
    "imagem_pequena = redimensionar_imagem(imagem)\n",
    "imagem_pequena.save('imagem_redimensionada.jpg')"
   ]
  }
 ],
 "metadata": {
  "kernelspec": {
   "display_name": "Python 3",
   "language": "python",
   "name": "python3"
  },
  "language_info": {
   "codemirror_mode": {
    "name": "ipython",
    "version": 3
   },
   "file_extension": ".py",
   "mimetype": "text/x-python",
   "name": "python",
   "nbconvert_exporter": "python",
   "pygments_lexer": "ipython3",
   "version": "3.12.1"
  }
 },
 "nbformat": 4,
 "nbformat_minor": 2
}
